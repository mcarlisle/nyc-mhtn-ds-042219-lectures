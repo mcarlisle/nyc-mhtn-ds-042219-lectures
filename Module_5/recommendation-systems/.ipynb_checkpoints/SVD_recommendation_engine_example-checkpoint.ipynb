{
 "cells": [
  {
   "cell_type": "code",
   "execution_count": 11,
   "metadata": {},
   "outputs": [
    {
     "name": "stdout",
     "output_type": "stream",
     "text": [
      "0.6482037235521644, 0.7599605956573483, 0.8344094626730117\n"
     ]
    }
   ],
   "source": [
    "import numpy as np\n",
    "\n",
    "UI = [[4,2,3,5], [3,2,4,2], [0,4,5,4], [3,2,4,4]]  # 0 is ? in slide\n",
    "UI_numpy = np.array(UI)\n",
    "\n",
    "U0_len = np.sqrt(np.dot(UI_numpy.T[0], UI_numpy.T[0]))\n",
    "U1_len = np.sqrt(np.dot(UI_numpy.T[1], UI_numpy.T[1]))\n",
    "U2_len = np.sqrt(np.dot(UI_numpy.T[2], UI_numpy.T[2]))\n",
    "U3_len = np.sqrt(np.dot(UI_numpy.T[3], UI_numpy.T[3]))\n",
    "\n",
    "# cosine similarity\n",
    "U01 = np.dot(UI_numpy.T[0], UI_numpy.T[1]) / (U0_len * U1_len)\n",
    "U02 = np.dot(UI_numpy.T[0], UI_numpy.T[2]) / (U0_len * U2_len)\n",
    "U03 = np.dot(UI_numpy.T[0], UI_numpy.T[3]) / (U0_len * U3_len)\n",
    "\n",
    "print(f\"{U01}, {U02}, {U03}\")"
   ]
  },
  {
   "cell_type": "code",
   "execution_count": 14,
   "metadata": {},
   "outputs": [],
   "source": [
    "twos = np.zeros((4,4))\n",
    "twos.fill(2)"
   ]
  },
  {
   "cell_type": "code",
   "execution_count": 15,
   "metadata": {},
   "outputs": [
    {
     "data": {
      "text/plain": [
       "array([[2., 2., 2., 2.],\n",
       "       [2., 2., 2., 2.],\n",
       "       [2., 2., 2., 2.],\n",
       "       [2., 2., 2., 2.]])"
      ]
     },
     "execution_count": 15,
     "metadata": {},
     "output_type": "execute_result"
    }
   ],
   "source": [
    "twos"
   ]
  },
  {
   "cell_type": "code",
   "execution_count": 32,
   "metadata": {},
   "outputs": [
    {
     "name": "stdout",
     "output_type": "stream",
     "text": [
      "[[4, 2, 3, 5], [3, 2, 4, 2], [0, 4, 5, 4], [3, 2, 4, 4]]\n",
      "[[2. 2. 2. 2.]\n",
      " [2. 2. 2. 2.]\n",
      " [2. 2. 2. 2.]\n",
      " [2. 2. 2. 2.]]\n",
      "[[ 2.  0.  1.  3.]\n",
      " [ 1.  0.  2.  0.]\n",
      " [-2.  2.  3.  2.]\n",
      " [ 1.  0.  2.  2.]]\n",
      "[[4. 0. 1. 9.]\n",
      " [1. 0. 4. 0.]\n",
      " [4. 4. 9. 4.]\n",
      " [1. 0. 4. 4.]]\n",
      "[10.  4. 18. 17.]\n",
      "49.0\n",
      "3.0625\n",
      "1.75\n"
     ]
    }
   ],
   "source": [
    "diff = (UI - twos)\n",
    "diff_sq = diff**2\n",
    "sum_col_diff_sq = sum(diff_sq)\n",
    "sum_full_diff_sq = sum(sum_col_diff_sq) # drop the one missing term? no, sub 0 instead\n",
    "MSE = sum_full_diff_sq / 16\n",
    "RMSE = np.sqrt(MSE)\n",
    "\n",
    "print(UI)\n",
    "print(twos)\n",
    "print(diff)\n",
    "print(diff_sq)\n",
    "print(sum_col_diff_sq)\n",
    "print(sum_full_diff_sq)\n",
    "print(MSE)\n",
    "print(RMSE) "
   ]
  },
  {
   "cell_type": "code",
   "execution_count": 34,
   "metadata": {},
   "outputs": [
    {
     "data": {
      "text/plain": [
       "array([[3.5, 3.5, 3.5, 3.5],\n",
       "       [2. , 2. , 2. , 2. ],\n",
       "       [2. , 2. , 2. , 2. ],\n",
       "       [2. , 2. , 2. , 2. ]])"
      ]
     },
     "execution_count": 34,
     "metadata": {},
     "output_type": "execute_result"
    }
   ],
   "source": [
    "twos\n",
    "mod_twos = twos\n",
    "mod_twos[0] = [3.5]*4\n",
    "mod_twos"
   ]
  },
  {
   "cell_type": "code",
   "execution_count": 35,
   "metadata": {},
   "outputs": [
    {
     "name": "stdout",
     "output_type": "stream",
     "text": [
      "[[4, 2, 3, 5], [3, 2, 4, 2], [0, 4, 5, 4], [3, 2, 4, 4]]\n",
      "[[3.5 3.5 3.5 3.5]\n",
      " [2.  2.  2.  2. ]\n",
      " [2.  2.  2.  2. ]\n",
      " [2.  2.  2.  2. ]]\n",
      "[[ 0.5 -1.5 -0.5  1.5]\n",
      " [ 1.   0.   2.   0. ]\n",
      " [-2.   2.   3.   2. ]\n",
      " [ 1.   0.   2.   2. ]]\n",
      "[[0.25 2.25 0.25 2.25]\n",
      " [1.   0.   4.   0.  ]\n",
      " [4.   4.   9.   4.  ]\n",
      " [1.   0.   4.   4.  ]]\n",
      "[ 6.25  6.25 17.25 10.25]\n",
      "40.0\n",
      "2.5\n",
      "1.5811388300841898\n"
     ]
    }
   ],
   "source": [
    "diff = (UI - mod_twos)\n",
    "diff_sq = diff**2\n",
    "sum_col_diff_sq = sum(diff_sq)\n",
    "sum_full_diff_sq = sum(sum_col_diff_sq) # drop the one missing term? no, sub 0 instead\n",
    "MSE = sum_full_diff_sq / 16\n",
    "RMSE = np.sqrt(MSE)\n",
    "\n",
    "print(UI)\n",
    "print(twos)\n",
    "print(diff)\n",
    "print(diff_sq)\n",
    "print(sum_col_diff_sq)\n",
    "print(sum_full_diff_sq)\n",
    "print(MSE)\n",
    "print(RMSE) "
   ]
  },
  {
   "cell_type": "code",
   "execution_count": 36,
   "metadata": {},
   "outputs": [
    {
     "data": {
      "text/plain": [
       "[[4, 2, 3, 5], [3, 2, 4, 2], [0, 4, 5, 4], [3, 2, 4, 4]]"
      ]
     },
     "execution_count": 36,
     "metadata": {},
     "output_type": "execute_result"
    }
   ],
   "source": [
    "UI"
   ]
  },
  {
   "cell_type": "code",
   "execution_count": 45,
   "metadata": {},
   "outputs": [],
   "source": [
    "UI_num1 = UI_numpy[1:4,1:4]\n",
    "UI_num2 = UI_numpy.copy()\n",
    "UI_num3 = UI_numpy.copy()\n",
    "UI_num4 = UI_numpy.copy()"
   ]
  },
  {
   "cell_type": "code",
   "execution_count": 47,
   "metadata": {},
   "outputs": [],
   "source": [
    "UI_num2 = np.delete(UI_num2, 0, 1)\n",
    "UI_num2 = np.delete(UI_num2, 1, 0)\n",
    "UI_num3 = np.delete(UI_num3, 0, 1)\n",
    "UI_num3 = np.delete(UI_num3, 2, 0)\n",
    "UI_num4 = np.delete(UI_num4, 0, 1)\n",
    "UI_num4 = np.delete(UI_num4, 3, 0)"
   ]
  },
  {
   "cell_type": "code",
   "execution_count": 50,
   "metadata": {},
   "outputs": [
    {
     "data": {
      "text/plain": [
       "array([[2, 3, 5],\n",
       "       [2, 4, 2],\n",
       "       [4, 5, 4]])"
      ]
     },
     "execution_count": 50,
     "metadata": {},
     "output_type": "execute_result"
    }
   ],
   "source": [
    "UI_num4"
   ]
  },
  {
   "cell_type": "code",
   "execution_count": 55,
   "metadata": {},
   "outputs": [
    {
     "data": {
      "text/plain": [
       "-17.999999999999996"
      ]
     },
     "execution_count": 55,
     "metadata": {},
     "output_type": "execute_result"
    }
   ],
   "source": [
    "np.linalg.det(UI_num4)"
   ]
  },
  {
   "cell_type": "code",
   "execution_count": 56,
   "metadata": {},
   "outputs": [],
   "source": [
    "UI_num_det0 = UI_numpy"
   ]
  },
  {
   "cell_type": "code",
   "execution_count": 58,
   "metadata": {},
   "outputs": [],
   "source": [
    "UI_num_det0[2][0] = 9"
   ]
  },
  {
   "cell_type": "code",
   "execution_count": 61,
   "metadata": {},
   "outputs": [],
   "source": [
    "UI_numpy[2][0] = 0"
   ]
  },
  {
   "cell_type": "code",
   "execution_count": 63,
   "metadata": {},
   "outputs": [],
   "source": [
    "UI_num_det0 = UI_numpy.copy()"
   ]
  },
  {
   "cell_type": "code",
   "execution_count": 64,
   "metadata": {},
   "outputs": [],
   "source": [
    "UI_num_det0[2][0] = 9"
   ]
  },
  {
   "cell_type": "code",
   "execution_count": 65,
   "metadata": {},
   "outputs": [
    {
     "data": {
      "text/plain": [
       "array([[4, 2, 3, 5],\n",
       "       [3, 2, 4, 2],\n",
       "       [9, 4, 5, 4],\n",
       "       [3, 2, 4, 4]])"
      ]
     },
     "execution_count": 65,
     "metadata": {},
     "output_type": "execute_result"
    }
   ],
   "source": [
    "UI_num_det0"
   ]
  },
  {
   "cell_type": "code",
   "execution_count": 66,
   "metadata": {},
   "outputs": [
    {
     "data": {
      "text/plain": [
       "1.702341971091915e-15"
      ]
     },
     "execution_count": 66,
     "metadata": {},
     "output_type": "execute_result"
    }
   ],
   "source": [
    "np.linalg.det(UI_num_det0)"
   ]
  },
  {
   "cell_type": "code",
   "execution_count": 67,
   "metadata": {},
   "outputs": [
    {
     "data": {
      "text/plain": [
       "(array([[-0.44270131, -0.49845509,  0.58633895, -0.46017899],\n",
       "        [-0.34592014, -0.09530578, -0.76355797, -0.53687549],\n",
       "        [-0.72205205,  0.66060217,  0.13680716,  0.153393  ],\n",
       "        [-0.40372719, -0.5532306 , -0.23338738,  0.69026849]]),\n",
       " array([1.60099019e+01, 3.13716330e+00, 1.95990983e+00, 2.17203509e-16]),\n",
       " array([[-6.56981892e-01, -3.29352766e-01, -4.95752788e-01,\n",
       "         -4.62742609e-01],\n",
       "        [ 6.39427987e-01,  1.11063944e-01, -2.50704183e-01,\n",
       "         -7.18292463e-01],\n",
       "        [ 2.98883261e-01, -1.39794253e-01, -7.88163148e-01,\n",
       "          5.19543276e-01],\n",
       "        [-2.64906471e-01,  9.27172650e-01, -2.64906471e-01,\n",
       "          5.63899664e-17]]))"
      ]
     },
     "execution_count": 67,
     "metadata": {},
     "output_type": "execute_result"
    }
   ],
   "source": [
    "np.linalg.svd(UI_num_det0)"
   ]
  },
  {
   "cell_type": "code",
   "execution_count": null,
   "metadata": {},
   "outputs": [],
   "source": []
  }
 ],
 "metadata": {
  "kernelspec": {
   "display_name": "Python 3",
   "language": "python",
   "name": "python3"
  },
  "language_info": {
   "codemirror_mode": {
    "name": "ipython",
    "version": 3
   },
   "file_extension": ".py",
   "mimetype": "text/x-python",
   "name": "python",
   "nbconvert_exporter": "python",
   "pygments_lexer": "ipython3",
   "version": "3.6.8"
  }
 },
 "nbformat": 4,
 "nbformat_minor": 2
}
